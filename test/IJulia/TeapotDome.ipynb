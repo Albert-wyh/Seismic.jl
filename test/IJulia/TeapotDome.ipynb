{
 "cells": [
  {
   "cell_type": "code",
   "execution_count": 1,
   "metadata": {
    "collapsed": false
   },
   "outputs": [
    {
     "name": "stderr",
     "output_type": "stream",
     "text": [
      "INFO: Loading help data...\n"
     ]
    }
   ],
   "source": [
    "using PyPlot,Seismic"
   ]
  },
  {
   "cell_type": "code",
   "execution_count": null,
   "metadata": {
    "collapsed": false
   },
   "outputs": [
    {
     "name": "stderr",
     "output_type": "stream",
     "text": [
      "  % Total    % Received % Xferd  Average Speed   Time    Time     Time  Current\n",
      "                                 Dload  Upload   Total   Spent    Left  Speed\n",
      " 37 5824M   37 2168M    0     0  2326k      0  0:42:43  0:15:54  0:26:49 1800k"
     ]
    }
   ],
   "source": [
    "download(\"http://s3.amazonaws.com/teapot/npr3_gathers.sgy\",\"npr3_gathers.sgy\")"
   ]
  },
  {
   "cell_type": "code",
   "execution_count": null,
   "metadata": {
    "collapsed": true
   },
   "outputs": [],
   "source": [
    "SegyToSeis(\"npr3_gathers.sgy\",\"npr3_gathers.seis\");"
   ]
  },
  {
   "cell_type": "code",
   "execution_count": null,
   "metadata": {
    "collapsed": true
   },
   "outputs": [],
   "source": [
    "SeisGeometry(\"npr3_gathers.seis\",ang=90,omx=788937,omy=938845,dmx=110,dmy=110,oh=0,oaz=0,dh=420,daz=45)"
   ]
  },
  {
   "cell_type": "code",
   "execution_count": null,
   "metadata": {
    "collapsed": true
   },
   "outputs": [],
   "source": [
    "h = SeisReadHeaders(\"npr3_gathers.seis\")\n",
    "SeisPlotCoordinates(h,style=\"sxsygxgy\")\n",
    "SeisPlotCoordinates(h,style=\"fold\",cmap=\"jet\",vmin=0,vmax=50,aspect=\"auto\",xlabel=\"imx\",ylabel=\"imy\")"
   ]
  },
  {
   "cell_type": "code",
   "execution_count": null,
   "metadata": {
    "collapsed": true
   },
   "outputs": [],
   "source": []
  }
 ],
 "metadata": {
  "kernelspec": {
   "display_name": "Julia 0.3.3",
   "language": "julia",
   "name": "julia-0.3"
  },
  "language_info": {
   "file_extension": ".jl",
   "mimetype": "application/julia",
   "name": "julia",
   "version": "0.3.3"
  }
 },
 "nbformat": 4,
 "nbformat_minor": 0
}
